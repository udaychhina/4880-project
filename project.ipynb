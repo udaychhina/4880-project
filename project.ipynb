{
 "cells": [
  {
   "cell_type": "markdown",
   "metadata": {},
   "source": [
    "# The data\n",
    "\n",
    "The data is a list of article metadata from NYT for the month of January through\n",
    "the years 2013 to 2024. The data is in JSON format. \n",
    "\n",
    "Our goal is to import all the saved data and create a pandas DataFrame with it.\n",
    "This will let us analyze the data and answer questions like:\n",
    "\n",
    "- Trends in article topics over the last 10 years\n",
    "- Most popular authors\n",
    "- Most popular sections\n",
    "- Most popular keywords\n",
    "- Most popular articles\n",
    "- and so on..."
   ]
  },
  {
   "cell_type": "code",
   "execution_count": 17,
   "metadata": {},
   "outputs": [
    {
     "name": "stdout",
     "output_type": "stream",
     "text": [
      "58117\n",
      "{'abstract': 'The Emancipation Proclamation evolved during the Civil War years, as did the thinking of its author.', 'web_url': 'https://opinionator.blogs.nytimes.com/2012/12/31/abraham-lincoln-and-the-emancipation-proclamation/', 'snippet': 'The Emancipation Proclamation evolved during the Civil War years, as did the thinking of its author.', 'lead_paragraph': 'In an op-ed, Eric Foner writes:', 'source': 'The New York Times', 'multimedia': [], 'headline': {'main': 'Abraham Lincoln and the Emancipation Proclamation', 'kicker': 'Opinionator', 'content_kicker': None, 'print_headline': '', 'name': None, 'seo': None, 'sub': None}, 'keywords': [{'name': 'subject', 'value': 'Civil War (US) (1861-65)', 'rank': 1, 'major': 'N'}, {'name': 'subject', 'value': 'Emancipation Proclamation (1863)', 'rank': 2, 'major': 'N'}, {'name': 'subject', 'value': 'Slavery', 'rank': 3, 'major': 'N'}, {'name': 'persons', 'value': 'Lincoln, Abraham', 'rank': 4, 'major': 'N'}], 'pub_date': '2013-01-01T00:05:49+0000', 'document_type': 'article', 'news_desk': '', 'section_name': 'Opinion', 'byline': {'original': 'By The Editors', 'person': [], 'organization': 'The Editors'}, 'type_of_material': 'News', '_id': 'nyt://article/2254bd00-ee83-5775-ab7e-ddfc8ff85d2a', 'word_count': 141, 'uri': 'nyt://article/2254bd00-ee83-5775-ab7e-ddfc8ff85d2a'}\n"
     ]
    }
   ],
   "source": [
    "import json\n",
    "\n",
    "def load_json():\n",
    "    with open('data/nyt_archive_2013_2023_jan.json', 'r') as f:\n",
    "        return json.load(f)\n",
    "    \n",
    "articles = load_json()\n",
    "print(len(articles))\n",
    "print(articles[0])"
   ]
  },
  {
   "cell_type": "code",
   "execution_count": 22,
   "metadata": {},
   "outputs": [
    {
     "name": "stdout",
     "output_type": "stream",
     "text": [
      "dict_keys(['abstract', 'web_url', 'snippet', 'lead_paragraph', 'source', 'multimedia', 'headline', 'keywords', 'pub_date', 'document_type', 'news_desk', 'section_name', 'byline', 'type_of_material', '_id', 'word_count', 'uri'])\n",
      "dict_keys(['main', 'kicker', 'content_kicker', 'print_headline', 'name', 'seo', 'sub'])\n",
      "dict_keys(['name', 'value', 'rank', 'major'])\n",
      "0\n",
      "[{'name': 'subject', 'value': 'Civil War (US) (1861-65)', 'rank': 1, 'major': 'N'}, {'name': 'subject', 'value': 'Emancipation Proclamation (1863)', 'rank': 2, 'major': 'N'}, {'name': 'subject', 'value': 'Slavery', 'rank': 3, 'major': 'N'}, {'name': 'persons', 'value': 'Lincoln, Abraham', 'rank': 4, 'major': 'N'}]\n",
      "{'main': 'Abraham Lincoln and the Emancipation Proclamation', 'kicker': 'Opinionator', 'content_kicker': None, 'print_headline': '', 'name': None, 'seo': None, 'sub': None}\n",
      "{'original': 'By The Editors', 'person': [], 'organization': 'The Editors'}\n"
     ]
    }
   ],
   "source": [
    "# Exploration\n",
    "\n",
    "# Each article is a dictionary with multiple keys. Some of the values are\n",
    "# dictionaries themselves. For example, the 'headline' key has a dictionary\n",
    "# as its value. The 'keywords' key has a list of dictionaries as its value.\n",
    "\n",
    "# keys of the articles dictionary\n",
    "print(articles[0].keys())\n",
    "\n",
    "# keys of the headline dictionary\n",
    "print(articles[0]['headline'].keys())\n",
    "\n",
    "# keys of the first keyword dictionary\n",
    "print(articles[0]['keywords'][0].keys())\n",
    "\n",
    "# multimedia is a list of dictionaries for the multimedia content of the article\n",
    "# count of the multimedia content of the first article\n",
    "print(len(articles[0]['multimedia']))\n",
    "\n",
    "# the data I think we should keep from the articles dictionary is:\n",
    "# abstract, byline (Author Name), document_type, headline, keywords, news_desk, section_name, word_count, \n",
    "\n",
    "# print the data in the keywords field\n",
    "print(articles[0]['keywords'])\n",
    "\n",
    "# print the data in the headline field\n",
    "print(articles[0]['headline'])\n",
    "\n",
    "# print the data in the byline field\n",
    "print(articles[0]['byline'])\n",
    "\n"
   ]
  },
  {
   "cell_type": "markdown",
   "metadata": {},
   "source": [
    "# Creating dataframes\n",
    "\n",
    "We will create a pandas DataFrame from the data based on the fields we've\n",
    "decided to keep."
   ]
  },
  {
   "cell_type": "code",
   "execution_count": 32,
   "metadata": {},
   "outputs": [
    {
     "name": "stdout",
     "output_type": "stream",
     "text": [
      "                                                headline  \\\n",
      "58112  Up Next for Rafael Nadal? His Specialty, the F...   \n",
      "58113  Multilayered Paintings That Pay Tribute to Hip...   \n",
      "58114  Biden Will Designate Qatar as Major Non-NATO Ally   \n",
      "58115  Rachel Maddow, MSNBC’s No. 1 star, is taking a...   \n",
      "58116  The White House threatens sanctions against Pu...   \n",
      "\n",
      "                       pub_date document_type  word_count   news_desk  \\\n",
      "58112  2022-01-31T21:41:04+0000       article        1448      Sports   \n",
      "58113  2022-01-31T21:53:31+0000       article        1548      TStyle   \n",
      "58114  2022-01-31T21:55:26+0000       article         468  Washington   \n",
      "58115  2022-01-31T21:59:59+0000       article         386    Business   \n",
      "58116  2022-01-31T22:07:53+0000       article         435     Foreign   \n",
      "\n",
      "       section_name type_of_material  multimedia_count  \\\n",
      "58112        Sports             News                 5   \n",
      "58113    T Magazine             News                 5   \n",
      "58114          U.S.             News                 5   \n",
      "58115  Business Day             News                 5   \n",
      "58116         World             News                 0   \n",
      "\n",
      "                                                 subject  \\\n",
      "58112  Tennis, Australian Open (Tennis), French Open ...   \n",
      "58113  Art, Rap and Hip-Hop, Dancing, Slang, Content ...   \n",
      "58114              United States International Relations   \n",
      "58115  News and News Media, Television, Appointments ...   \n",
      "58116                            Embargoes and Sanctions   \n",
      "\n",
      "                                               persons  \\\n",
      "58112   Nadal, Rafael, Djokovic, Novak, Federer, Roger   \n",
      "58113                             Chew, Troy Lamarr II   \n",
      "58114   Biden, Joseph R Jr, Thani, Tamim bin Hamad al-   \n",
      "58115  Maddow, Rachel, Williams, Brian, Jones, Rashida   \n",
      "58116            Biden, Joseph R Jr, Putin, Vladimir V   \n",
      "\n",
      "                                       organizations  \\\n",
      "58112                                            NaN   \n",
      "58113  Altman Siegel (San Francisco, Calif, Gallery)   \n",
      "58114             North Atlantic Treaty Organization   \n",
      "58115                            MSNBC, NBCUniversal   \n",
      "58116                                            NaN   \n",
      "\n",
      "                           glocations  \\\n",
      "58112                             NaN   \n",
      "58113                             NaN   \n",
      "58114                           Qatar   \n",
      "58115                             NaN   \n",
      "58116  Russia, Ukraine, United States   \n",
      "\n",
      "                                          creative_works  \n",
      "58112                                                NaN  \n",
      "58113                                                NaN  \n",
      "58114                                                NaN  \n",
      "58115  Morning Joe (TV Program), Bag Man (Radio Program)  \n",
      "58116                                                NaN  \n"
     ]
    }
   ],
   "source": [
    "import pandas as pd\n",
    "import numpy as np\n",
    "\n",
    "def extract_keywords_dynamic(article):\n",
    "    \"\"\"Extracts keywords and groups them dynamically by their 'name'.\"\"\"\n",
    "    keyword_dict = {}\n",
    "\n",
    "    for keyword in article.get('keywords', []):\n",
    "        keyword_type = keyword['name']\n",
    "        keyword_value = keyword['value']\n",
    "\n",
    "        if keyword_type not in keyword_dict:\n",
    "            keyword_dict[keyword_type] = []\n",
    "\n",
    "        keyword_dict[keyword_type].append(keyword_value)\n",
    "\n",
    "    for key in keyword_dict:\n",
    "        keyword_dict[key] = ', '.join(keyword_dict[key])\n",
    "\n",
    "    return keyword_dict\n",
    "\n",
    "articles_data = []\n",
    "for article in articles:\n",
    "    article_data = {\n",
    "        'headline': article['headline']['main'],\n",
    "        'pub_date': article['pub_date'],\n",
    "        'document_type': article['document_type'],\n",
    "        'word_count': article.get('word_count', 0),\n",
    "        'news_desk': article.get('news_desk'),\n",
    "        'section_name': article.get('section_name'),\n",
    "        'type_of_material': article.get('type_of_material'),\n",
    "        'multimedia_count': len(article.get('multimedia', [])),\n",
    "    }\n",
    "    article_data.update(extract_keywords_dynamic(article))\n",
    "\n",
    "    articles_data.append(article_data)\n",
    "\n",
    "df = pd.DataFrame(articles_data)\n",
    "\n",
    "print(df.tail())"
   ]
  },
  {
   "cell_type": "code",
   "execution_count": null,
   "metadata": {},
   "outputs": [],
   "source": []
  }
 ],
 "metadata": {
  "kernelspec": {
   "display_name": "Python 3",
   "language": "python",
   "name": "python3"
  },
  "language_info": {
   "codemirror_mode": {
    "name": "ipython",
    "version": 3
   },
   "file_extension": ".py",
   "mimetype": "text/x-python",
   "name": "python",
   "nbconvert_exporter": "python",
   "pygments_lexer": "ipython3",
   "version": "3.11.5"
  }
 },
 "nbformat": 4,
 "nbformat_minor": 2
}
