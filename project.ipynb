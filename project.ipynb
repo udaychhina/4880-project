{
 "cells": [
  {
   "cell_type": "markdown",
   "metadata": {},
   "source": [
    "# The data\n",
    "\n",
    "The data is a list of article metadata from NYT for the month of January through\n",
    "the years 2013 to 2022. The data is in JSON format. \n",
    "\n",
    "Our goal is to import all the saved data and create a pandas DataFrame with it.\n",
    "This will let us analyze the data and answer questions like:\n",
    "\n",
    "- Trends in article topics over the last 10 years\n",
    "- Most popular authors\n",
    "- Most popular sections\n",
    "- Most popular keywords\n",
    "- Most popular articles\n",
    "- and so on..."
   ]
  },
  {
   "cell_type": "code",
   "execution_count": 17,
   "metadata": {},
   "outputs": [
    {
     "name": "stdout",
     "output_type": "stream",
     "text": [
      "58117\n",
      "{'abstract': 'The Emancipation Proclamation evolved during the Civil War years, as did the thinking of its author.', 'web_url': 'https://opinionator.blogs.nytimes.com/2012/12/31/abraham-lincoln-and-the-emancipation-proclamation/', 'snippet': 'The Emancipation Proclamation evolved during the Civil War years, as did the thinking of its author.', 'lead_paragraph': 'In an op-ed, Eric Foner writes:', 'source': 'The New York Times', 'multimedia': [], 'headline': {'main': 'Abraham Lincoln and the Emancipation Proclamation', 'kicker': 'Opinionator', 'content_kicker': None, 'print_headline': '', 'name': None, 'seo': None, 'sub': None}, 'keywords': [{'name': 'subject', 'value': 'Civil War (US) (1861-65)', 'rank': 1, 'major': 'N'}, {'name': 'subject', 'value': 'Emancipation Proclamation (1863)', 'rank': 2, 'major': 'N'}, {'name': 'subject', 'value': 'Slavery', 'rank': 3, 'major': 'N'}, {'name': 'persons', 'value': 'Lincoln, Abraham', 'rank': 4, 'major': 'N'}], 'pub_date': '2013-01-01T00:05:49+0000', 'document_type': 'article', 'news_desk': '', 'section_name': 'Opinion', 'byline': {'original': 'By The Editors', 'person': [], 'organization': 'The Editors'}, 'type_of_material': 'News', '_id': 'nyt://article/2254bd00-ee83-5775-ab7e-ddfc8ff85d2a', 'word_count': 141, 'uri': 'nyt://article/2254bd00-ee83-5775-ab7e-ddfc8ff85d2a'}\n"
     ]
    }
   ],
   "source": [
    "import json\n",
    "\n",
    "def load_json():\n",
    "    with open('data/nyt_archive_2013_2023_jan.json', 'r') as f:\n",
    "        return json.load(f)\n",
    "    \n",
    "articles = load_json()\n",
    "print(len(articles))\n",
    "print(articles[0])"
   ]
  },
  {
   "cell_type": "code",
   "execution_count": 22,
   "metadata": {},
   "outputs": [
    {
     "name": "stdout",
     "output_type": "stream",
     "text": [
      "dict_keys(['abstract', 'web_url', 'snippet', 'lead_paragraph', 'source', 'multimedia', 'headline', 'keywords', 'pub_date', 'document_type', 'news_desk', 'section_name', 'byline', 'type_of_material', '_id', 'word_count', 'uri'])\n",
      "dict_keys(['main', 'kicker', 'content_kicker', 'print_headline', 'name', 'seo', 'sub'])\n",
      "dict_keys(['name', 'value', 'rank', 'major'])\n",
      "0\n",
      "[{'name': 'subject', 'value': 'Civil War (US) (1861-65)', 'rank': 1, 'major': 'N'}, {'name': 'subject', 'value': 'Emancipation Proclamation (1863)', 'rank': 2, 'major': 'N'}, {'name': 'subject', 'value': 'Slavery', 'rank': 3, 'major': 'N'}, {'name': 'persons', 'value': 'Lincoln, Abraham', 'rank': 4, 'major': 'N'}]\n",
      "{'main': 'Abraham Lincoln and the Emancipation Proclamation', 'kicker': 'Opinionator', 'content_kicker': None, 'print_headline': '', 'name': None, 'seo': None, 'sub': None}\n",
      "{'original': 'By The Editors', 'person': [], 'organization': 'The Editors'}\n"
     ]
    }
   ],
   "source": [
    "# Exploration\n",
    "\n",
    "# Each article is a dictionary with multiple keys. Some of the values are\n",
    "# dictionaries themselves. For example, the 'headline' key has a dictionary\n",
    "# as its value. The 'keywords' key has a list of dictionaries as its value.\n",
    "\n",
    "# keys of the articles dictionary\n",
    "print(articles[0].keys())\n",
    "\n",
    "# keys of the headline dictionary\n",
    "print(articles[0]['headline'].keys())\n",
    "\n",
    "# keys of the first keyword dictionary\n",
    "print(articles[0]['keywords'][0].keys())\n",
    "\n",
    "# multimedia is a list of dictionaries for the multimedia content of the article\n",
    "# count of the multimedia content of the first article\n",
    "print(len(articles[0]['multimedia']))\n",
    "\n",
    "# the data I think we should keep from the articles dictionary is:\n",
    "# abstract, byline (Author Name), document_type, headline, keywords, news_desk, section_name, word_count, \n",
    "\n",
    "# print the data in the keywords field\n",
    "print(articles[0]['keywords'])\n",
    "\n",
    "# print the data in the headline field\n",
    "print(articles[0]['headline'])\n",
    "\n",
    "# print the data in the byline field\n",
    "print(articles[0]['byline'])\n",
    "\n",
    "# Data "
   ]
  },
  {
   "cell_type": "code",
   "execution_count": null,
   "metadata": {},
   "outputs": [],
   "source": []
  }
 ],
 "metadata": {
  "kernelspec": {
   "display_name": "Python 3",
   "language": "python",
   "name": "python3"
  },
  "language_info": {
   "codemirror_mode": {
    "name": "ipython",
    "version": 3
   },
   "file_extension": ".py",
   "mimetype": "text/x-python",
   "name": "python",
   "nbconvert_exporter": "python",
   "pygments_lexer": "ipython3",
   "version": "3.11.5"
  }
 },
 "nbformat": 4,
 "nbformat_minor": 2
}
